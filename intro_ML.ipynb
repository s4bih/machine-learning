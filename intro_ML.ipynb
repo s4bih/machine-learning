{
  "nbformat": 4,
  "nbformat_minor": 0,
  "metadata": {
    "colab": {
      "provenance": [],
      "authorship_tag": "ABX9TyPIpGt5QyZdzL43EP3U9hK/",
      "include_colab_link": true
    },
    "kernelspec": {
      "name": "python3",
      "display_name": "Python 3"
    },
    "language_info": {
      "name": "python"
    }
  },
  "cells": [
    {
      "cell_type": "markdown",
      "metadata": {
        "id": "view-in-github",
        "colab_type": "text"
      },
      "source": [
        "<a href=\"https://colab.research.google.com/github/s4bih/machine-learning/blob/main/intro_ML.ipynb\" target=\"_parent\"><img src=\"https://colab.research.google.com/assets/colab-badge.svg\" alt=\"Open In Colab\"/></a>"
      ]
    },
    {
      "cell_type": "code",
      "execution_count": null,
      "metadata": {
        "id": "wgX3iSxCeHIc"
      },
      "outputs": [],
      "source": [
        "data = [('red','small','cherry'),\n",
        "        ('yellow','small','banana'),\n",
        "        ('orange','small','orange')]"
      ]
    },
    {
      "cell_type": "code",
      "source": [
        "def guess_fruit(color,size):\n",
        "  for item in data:\n",
        "   if item[0] == color and item[1] == size:\n",
        "     return item[2]\n",
        "  return 'unknown'"
      ],
      "metadata": {
        "id": "F7OynMWTfB46"
      },
      "execution_count": null,
      "outputs": []
    },
    {
      "cell_type": "code",
      "source": [
        "color = input('enter color: ')\n",
        "size = input('enter size: ')\n",
        "predict=guess_fruit(color,size)\n",
        "print('fruit: ',predict)\n"
      ],
      "metadata": {
        "colab": {
          "base_uri": "https://localhost:8080/"
        },
        "id": "pQOfhPdff5fU",
        "outputId": "96cae924-7dfd-43ef-fa8d-598d2b214212"
      },
      "execution_count": null,
      "outputs": [
        {
          "output_type": "stream",
          "name": "stdout",
          "text": [
            "enter color: red\n",
            "enter size: small\n",
            "fruit:  cherry\n"
          ]
        }
      ]
    },
    {
      "cell_type": "code",
      "source": [
        "data = [['red','small'],\n",
        "        ['yellow','small'],\n",
        "        ['orange','small'],\n",
        "        ['red','medium'],\n",
        "        ['yellow','medium'],\n",
        "        ['orange','medium']]"
      ],
      "metadata": {
        "id": "0Z4bMPZUhOLh"
      },
      "execution_count": null,
      "outputs": []
    },
    {
      "cell_type": "code",
      "source": [
        "color_to_number={\n",
        "    'red':0,\n",
        "    'yellow':1,\n",
        "    'orange':2\n",
        "}\n"
      ],
      "metadata": {
        "id": "smuDcrIRhSfQ"
      },
      "execution_count": null,
      "outputs": []
    },
    {
      "cell_type": "code",
      "source": [
        "numeric_data = [[color_to_number[color], 'small' if size == 'small' else 'medium'] for color, size in data]"
      ],
      "metadata": {
        "id": "_0SirCQ-iCYp"
      },
      "execution_count": null,
      "outputs": []
    },
    {
      "cell_type": "code",
      "source": [
        "cluster = {\n",
        "    'small': [], 'medium':[]\n",
        "}"
      ],
      "metadata": {
        "id": "DXDzmozikFeK"
      },
      "execution_count": null,
      "outputs": []
    },
    {
      "cell_type": "code",
      "source": [
        "for fruit in numeric_data:\n",
        "  cluster[fruit[1]].append(fruit[0])"
      ],
      "metadata": {
        "id": "Rn4Mn704kgxQ"
      },
      "execution_count": null,
      "outputs": []
    }
  ]
}