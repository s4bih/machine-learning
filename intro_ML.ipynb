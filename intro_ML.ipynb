{
  "nbformat": 4,
  "nbformat_minor": 0,
  "metadata": {
    "colab": {
      "provenance": [],
      "authorship_tag": "ABX9TyM45Ei5KO/8oM3AVyfaWC96",
      "include_colab_link": true
    },
    "kernelspec": {
      "name": "python3",
      "display_name": "Python 3"
    },
    "language_info": {
      "name": "python"
    }
  },
  "cells": [
    {
      "cell_type": "markdown",
      "metadata": {
        "id": "view-in-github",
        "colab_type": "text"
      },
      "source": [
        "<a href=\"https://colab.research.google.com/github/s4bih/machine-learning/blob/main/intro_ML.ipynb\" target=\"_parent\"><img src=\"https://colab.research.google.com/assets/colab-badge.svg\" alt=\"Open In Colab\"/></a>"
      ]
    },
    {
      "cell_type": "code",
      "execution_count": 1,
      "metadata": {
        "id": "wgX3iSxCeHIc"
      },
      "outputs": [],
      "source": [
        "data = [('red','small','cherry'),\n",
        "        ('yellow','small','banana'),\n",
        "        ('orange','small','orange')]"
      ]
    },
    {
      "cell_type": "code",
      "source": [
        "def guess_fruit(color,size):\n",
        "  for item in data:\n",
        "   if item[0] == color and item[1] == size:\n",
        "     return item[2]\n",
        "  return 'unknown'"
      ],
      "metadata": {
        "id": "F7OynMWTfB46"
      },
      "execution_count": 2,
      "outputs": []
    },
    {
      "cell_type": "code",
      "source": [
        "color = input('enter color: ')\n",
        "size = input('enter size: ')\n",
        "predict=guess_fruit(color,size)\n",
        "print('fruit: ',predict)\n"
      ],
      "metadata": {
        "colab": {
          "base_uri": "https://localhost:8080/"
        },
        "id": "pQOfhPdff5fU",
        "outputId": "6ff7e7d6-aef9-4334-e079-e785a2bd2acb"
      },
      "execution_count": 3,
      "outputs": [
        {
          "output_type": "stream",
          "name": "stdout",
          "text": [
            "enter color: red\n",
            "enter size: small\n",
            "fruit:  cherry\n"
          ]
        }
      ]
    },
    {
      "cell_type": "code",
      "source": [
        "data = [['red','small'],\n",
        "        ['yellow','small'],\n",
        "        ['orange','small'],\n",
        "        ['red','medium'],\n",
        "        ['yellow','medium'],\n",
        "        ['orange','medium']]"
      ],
      "metadata": {
        "id": "0Z4bMPZUhOLh"
      },
      "execution_count": 4,
      "outputs": []
    },
    {
      "cell_type": "code",
      "source": [
        "color_to_number={\n",
        "    'red':0,\n",
        "    'yellow':1,\n",
        "    'orange':2\n",
        "}\n"
      ],
      "metadata": {
        "id": "smuDcrIRhSfQ"
      },
      "execution_count": 5,
      "outputs": []
    },
    {
      "cell_type": "code",
      "source": [
        "numeric_data = [[color_to_number[color], 'small' if size == 'small' else 'medium'] for color, size in data]"
      ],
      "metadata": {
        "id": "_0SirCQ-iCYp"
      },
      "execution_count": 6,
      "outputs": []
    },
    {
      "cell_type": "code",
      "source": [
        "cluster = {\n",
        "    'small': [], 'medium':[]\n",
        "}"
      ],
      "metadata": {
        "id": "DXDzmozikFeK"
      },
      "execution_count": 7,
      "outputs": []
    },
    {
      "cell_type": "code",
      "source": [
        "for fruit in numeric_data:\n",
        "  cluster[fruit[1]].append(fruit[0])"
      ],
      "metadata": {
        "id": "Rn4Mn704kgxQ"
      },
      "execution_count": 8,
      "outputs": []
    },
    {
      "cell_type": "code",
      "source": [
        "new_fruit =  ['red','small']\n",
        "new_fruit_number = color_to_number[new_fruit[0]]\n",
        "predicted_cluster = None\n",
        "\n",
        "if new_fruit_number in cluster['small']:\n",
        "  predicted_cluster = 'small'\n",
        "elif new_fruit_number in cluster['medium']:\n",
        "  predicted_cluster = 'medium'\n",
        "else:\n",
        "  predicted_cluster = 'unknown'"
      ],
      "metadata": {
        "id": "xUAR9eFb_0bP"
      },
      "execution_count": 17,
      "outputs": []
    },
    {
      "cell_type": "code",
      "source": [
        "print('predicted cluster: ',predicted_cluster)"
      ],
      "metadata": {
        "colab": {
          "base_uri": "https://localhost:8080/"
        },
        "id": "xzw2HVcpBYiR",
        "outputId": "85bfb547-4369-4f87-dcb3-bae0913c732c"
      },
      "execution_count": 18,
      "outputs": [
        {
          "output_type": "stream",
          "name": "stdout",
          "text": [
            "predicted cluster:  small\n"
          ]
        }
      ]
    },
    {
      "cell_type": "code",
      "source": [
        "import random\n",
        "\n",
        "def play_game():\n",
        "  target_number = random.randint(1,10)\n",
        "  attemps = 0\n",
        "\n",
        "  while True:\n",
        "    guess = int(input(\"guess a number between 1 and 10: \"))\n",
        "    attemps += 1\n",
        "\n",
        "    if guess == target_number:\n",
        "      print(f'congratulation! you guessed the number {target_number} in {attemps} attemps')\n",
        "      break\n",
        "    elif guess < target_number:\n",
        "      print('try a higher number')\n",
        "    else :\n",
        "      print('try a lower number')"
      ],
      "metadata": {
        "id": "GUz8Sn8OBvuB"
      },
      "execution_count": 20,
      "outputs": []
    },
    {
      "cell_type": "code",
      "source": [
        "play_game()"
      ],
      "metadata": {
        "colab": {
          "base_uri": "https://localhost:8080/"
        },
        "id": "e8Vt-u63Dqy_",
        "outputId": "b8b5572e-8ca8-4e7c-d456-fbfbfde62c68"
      },
      "execution_count": 24,
      "outputs": [
        {
          "output_type": "stream",
          "name": "stdout",
          "text": [
            "guess a number between 1 and 10: 5\n",
            "congratulation! you guessed the number 5 in 1 attemps\n"
          ]
        }
      ]
    }
  ]
}